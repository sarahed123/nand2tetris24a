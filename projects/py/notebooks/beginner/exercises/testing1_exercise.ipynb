{
 "cells": [
  {
   "cell_type": "code",
   "execution_count": null,
   "metadata": {},
   "outputs": [],
   "source": [
    "# Required boilerplate\n",
    "import sys\n",
    "!{sys.executable} -m pip install pytest\n",
    "!{sys.executable} -m pip install ipytest\n",
    "\n",
    "import ipytest\n",
    "ipytest.autoconfig()\n",
    "import pytest\n",
    "\n",
    "__file__ = 'testing1_exercise.ipynb'"
   ]
  },
  {
   "cell_type": "markdown",
   "metadata": {},
   "source": [
    "# 1. Creating your first test case\n",
    "There is an implementation for `get_divisible_by_five` function in the cell below. Your task is to create a test case for this function to verify that it works correctly.\n"
   ]
  },
  {
   "cell_type": "code",
   "execution_count": null,
   "metadata": {
    "editable": false
   },
   "outputs": [],
   "source": [
    "def get_divisible_by_five(numbers):\n",
    "    '''Returns a list of numbers which are divisible by five in the list got as an argument'''\n",
    "    result = []\n",
    "    for num in numbers:\n",
    "        if not num % 5:\n",
    "            result.append(num)\n",
    "\n",
    "    return result"
   ]
  },
  {
   "cell_type": "code",
   "execution_count": null,
   "metadata": {},
   "outputs": [],
   "source": [
    "# To run the test in the notebook or with external test script, you might need one of the following\n",
    "#%%ipytest\n",
    "#run_pytest[clean]\n",
    "from pytest import ExitCode\n",
    "\n",
    "\n",
    "def test_get_divisible_by_five():\n",
    "    # Your implementation here\n",
    "    # Hint: replace False with testing the result of calling get_divisible_by_five\n",
    "    assert False\n",
    "\n",
    "assert ipytest.run() == pytest.ExitCode.OK"
   ]
  }
 ],
 "metadata": {
  "kernelspec": {
   "display_name": "Python 3.10.4 64-bit",
   "language": "python",
   "name": "python3"
  },
  "language_info": {
   "authors": [
    {
     "name": "Adapted to JCE course"
    },
    {
     "name": "2024a edition"
    }
   ],
   "codemirror_mode": {
    "name": "ipython",
    "version": 3
   },
   "file_extension": ".py",
   "mimetype": "text/x-python",
   "name": "python",
   "nbconvert_exporter": "python",
   "pygments_lexer": "ipython3",
   "version": "3.10.4"
  },
  "vscode": {
   "interpreter": {
    "hash": "078a4f8f8421b2d9221c40e6ad9a9cf21c4189f8d617d785c665e965dde1ec12"
   }
  }
 },
 "nbformat": 4,
 "nbformat_minor": 2
}
